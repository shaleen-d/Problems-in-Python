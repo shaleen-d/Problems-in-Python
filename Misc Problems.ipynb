{
 "cells": [
  {
   "cell_type": "markdown",
   "metadata": {},
   "source": [
    "### Remove anagrams from a list of numbers and strings"
   ]
  },
  {
   "cell_type": "code",
   "execution_count": 21,
   "metadata": {},
   "outputs": [
    {
     "data": {
      "text/plain": [
       "['poke']"
      ]
     },
     "execution_count": 21,
     "metadata": {},
     "output_type": "execute_result"
    }
   ],
   "source": [
    "def isAnagram(word1, word2):\n",
    "    return set(word1) == set(word2)\n",
    "\n",
    "def funWithAnagrams(text):\n",
    "    for i in range(0, len(text) - 1):\n",
    "        for j in range(i+1, len(text)):\n",
    "            if str(text[i]).isnumeric(): \n",
    "                text.pop(i)\n",
    "                continue; \n",
    "            elif str(text[j]).isnumeric(): \n",
    "                text.pop(j)\n",
    "                continue;\n",
    "            elif isAnagram(text[i], text[j]):\n",
    "                text.pop(j)\n",
    "                continue;\n",
    "    return sorted(text)\n",
    "\n",
    "mylst = [4, \"poke\"]\n",
    "funWithAnagrams(mylst)"
   ]
  },
  {
   "cell_type": "markdown",
   "metadata": {},
   "source": [
    "### Convert Roman Numerals to Integer"
   ]
  },
  {
   "cell_type": "code",
   "execution_count": 22,
   "metadata": {},
   "outputs": [],
   "source": [
    "def rom_to_int(text):\n",
    "    rom_nums = {'I': 1, 'V': 5, 'X': 10, 'L': 50, 'C': 100, 'D': 500, 'M': 1000}\n",
    "    int_val = 0\n",
    "    for i in range(len(text)):\n",
    "        if i > 0 and rom_nums[text[i]] > rom_nums[text[i - 1]]:\n",
    "            int_val += rom_nums[text[i]] - 2 * rom_nums[text[i - 1]]\n",
    "        else:\n",
    "            int_val += rom_nums[text[i]]\n",
    "    return int_val\n",
    "\n"
   ]
  }
 ],
 "metadata": {
  "interpreter": {
   "hash": "b3ba2566441a7c06988d0923437866b63cedc61552a5af99d1f4fb67d367b25f"
  },
  "kernelspec": {
   "display_name": "Python 3.8.8 64-bit ('base': conda)",
   "language": "python",
   "name": "python3"
  },
  "language_info": {
   "codemirror_mode": {
    "name": "ipython",
    "version": 3
   },
   "file_extension": ".py",
   "mimetype": "text/x-python",
   "name": "python",
   "nbconvert_exporter": "python",
   "pygments_lexer": "ipython3",
   "version": "3.8.8"
  },
  "orig_nbformat": 4
 },
 "nbformat": 4,
 "nbformat_minor": 2
}
