{
 "cells": [
  {
   "cell_type": "markdown",
   "metadata": {},
   "source": [
    "Binary Search"
   ]
  },
  {
   "cell_type": "markdown",
   "metadata": {},
   "source": [
    "Recursive Binary Search"
   ]
  },
  {
   "cell_type": "code",
   "execution_count": 17,
   "metadata": {},
   "outputs": [],
   "source": [
    "def Binary_Search_rec(lst, start, end, target):\n",
    "    mid = (start + end) // 2\n",
    "    if lst[mid] == target:\n",
    "        return mid\n",
    "    elif start >= end:\n",
    "        return None\n",
    "    elif lst[mid] < target:\n",
    "        return Binary_Search_rec(lst, mid + 1, end, target)\n",
    "    else:\n",
    "        return Binary_Search_rec(lst, start, mid - 1, target)"
   ]
  },
  {
   "cell_type": "code",
   "execution_count": 16,
   "metadata": {},
   "outputs": [
    {
     "name": "stdout",
     "output_type": "stream",
     "text": [
      "[-10, -5, 1, 3, 4, 5, 6, 10, 13, 22, 50]\n",
      "8\n"
     ]
    }
   ],
   "source": [
    "# Testing recursive Binary Search\n",
    "my_lst = [10, 5, 1, 3, 4, 13, 50, 22, -10, -5, 6]\n",
    "my_lst.sort() # Sort list in place, this is very imperative\n",
    "print(my_lst)\n",
    "print(Binary_Search_rec(my_lst, 0, len(my_lst) - 1, 13))"
   ]
  },
  {
   "cell_type": "markdown",
   "metadata": {},
   "source": [
    "Imperative Binary Search"
   ]
  },
  {
   "cell_type": "code",
   "execution_count": 11,
   "metadata": {},
   "outputs": [],
   "source": [
    "def Binary_Search_imp(lst, target):\n",
    "    start = 0\n",
    "    end = len(lst) - 1\n",
    "    \n",
    "    while start < end:\n",
    "        mid = (start + end) // 2\n",
    "        if lst[mid] == target:\n",
    "            return mid\n",
    "        elif lst[mid] < target:\n",
    "            start = mid + 1\n",
    "        else:\n",
    "            end = mid - 1\n",
    "    return None"
   ]
  },
  {
   "cell_type": "code",
   "execution_count": 12,
   "metadata": {},
   "outputs": [
    {
     "name": "stdout",
     "output_type": "stream",
     "text": [
      "[-10, -5, 1, 3, 4, 5, 6, 10, 13, 22, 50]\n",
      "None\n"
     ]
    }
   ],
   "source": [
    "# Testing recursive Binary Search\n",
    "print(my_lst)\n",
    "print(Binary_Search_imp(my_lst, 21))"
   ]
  }
 ],
 "metadata": {
  "interpreter": {
   "hash": "b3ba2566441a7c06988d0923437866b63cedc61552a5af99d1f4fb67d367b25f"
  },
  "kernelspec": {
   "display_name": "Python 3.8.8 64-bit ('base': conda)",
   "language": "python",
   "name": "python3"
  },
  "language_info": {
   "codemirror_mode": {
    "name": "ipython",
    "version": 3
   },
   "file_extension": ".py",
   "mimetype": "text/x-python",
   "name": "python",
   "nbconvert_exporter": "python",
   "pygments_lexer": "ipython3",
   "version": "3.8.8"
  },
  "orig_nbformat": 4
 },
 "nbformat": 4,
 "nbformat_minor": 2
}
